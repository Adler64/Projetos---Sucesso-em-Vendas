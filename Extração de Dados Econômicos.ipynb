{
 "cells": [
  {
   "cell_type": "code",
   "execution_count": 1,
   "metadata": {},
   "outputs": [],
   "source": [
    "import pandas as pd\n",
    "import requests\n",
    "import json"
   ]
  },
  {
   "cell_type": "code",
   "execution_count": 2,
   "metadata": {},
   "outputs": [],
   "source": [
    "\n",
    "anos = ['2010','2011','2012','2013','2014','2015','2016','2017','2018','2019','2020','2021']\n",
    "tudo = []\n",
    "per = [] \n",
    "for ano in anos:\n",
    "    periodos = [ano + str(i).zfill(2) for i in range (1, 13)]\n",
    "    q_periodos = '|'.join(periodos) + '|'\n",
    "    per.append(q_periodos)\n",
    "per = ''.join(per)\n",
    "periodos = ['2022' + str(i).zfill(2) for i in range (1, 13)]\n",
    "q_periodos = '|'.join(periodos)\n",
    "per = per + q_periodos"
   ]
  },
  {
   "cell_type": "code",
   "execution_count": 3,
   "metadata": {},
   "outputs": [],
   "source": [
    "#PIB Preços Correntes e PIB Per Capita - Nível Brasil\n",
    "\n",
    "response = requests.get(url = \"https://servicodados.ibge.gov.br/api/v3/agregados/6784/periodos/1996|1997|1998|1999|2000|2001|2002|2003|2004|2005|2006|2007|2008|2009|2010|2011|2012|2013|2014|2015|2016|2017|2018|2019/variaveis/9808?localidades=N1[all]\")\n",
    "resultados = response.json()[0]['resultados'][0]['series'][0]['serie']\n",
    "pib = pd.DataFrame.from_dict(resultados, orient='index', columns=['PIB - Preços Correntes']).reset_index().rename(columns={'index': 'Ano'})\n",
    "\n",
    "response = requests.get(url = \"https://servicodados.ibge.gov.br/api/v3/agregados/6784/periodos/1996|1997|1998|1999|2000|2001|2002|2003|2004|2005|2006|2007|2008|2009|2010|2011|2012|2013|2014|2015|2016|2017|2018|2019/variaveis/9812?localidades=N1[all]\")\n",
    "resultados = response.json()[0]['resultados'][0]['series'][0]['serie']\n",
    "pib_per = pd.DataFrame.from_dict(resultados, orient='index', columns=['PIB Per Capita - Preços Correntes']).reset_index().rename(columns={'index': 'Ano'})\n",
    "\n",
    "pibs = pd.DataFrame.merge(pib, on = \"Ano\", right= pib_per)"
   ]
  },
  {
   "cell_type": "code",
   "execution_count": 4,
   "metadata": {},
   "outputs": [],
   "source": [
    "#Pesquisa Mensal de Comércio Varejista - Volume de Vendas - Número-índice\n",
    "\n",
    "atividades = ['2759', '90671','103154','2759','31555','31556','103158']\n",
    "lista2 = []\n",
    "\n",
    "for atividade in atividades:\n",
    "    response = requests.get(url = 'https://servicodados.ibge.gov.br/api/v3/agregados/8187/periodos/'+per+'/variaveis/11706?localidades=N1[all]|N3[all]&classificacao=11046[56734]|85['+atividade+']')\n",
    "    resultados = response.json()[0]['resultados']\n",
    "    for resultado in resultados:\n",
    "        series = resultado['series']\n",
    "        for serie in series:\n",
    "            dados = pd.DataFrame.from_dict(serie['serie'], orient='index', columns = ['PMC - Volume de Vendas'])\n",
    "            dados['Nível Regional'] = serie['localidade']['nivel']['nome']\n",
    "            dados['Região'] = serie['localidade']['nome']\n",
    "            dados['Categoria'] = list(resultado['classificacoes'][0]['categoria'].values())[0]\n",
    "            dados = dados.reset_index().rename(columns = {'index': 'Período'})\n",
    "            dados['Período'] = pd.to_datetime(dados['Período'], format = '%Y%m')\n",
    "            dados['Atividade'] = list(resultado['classificacoes'][1]['categoria'].values())[0]\n",
    "\n",
    "            # Anexa o conjunto de dados do loop atual na lista\n",
    "            lista2.append(dados)\n",
    "    pmc_volume = pd.concat(lista2)"
   ]
  },
  {
   "cell_type": "code",
   "execution_count": 5,
   "metadata": {},
   "outputs": [],
   "source": [
    "#Pesquisa Mensal de Comércio Varejista - Receita Nominal - Número-índice\n",
    "\n",
    "atividades = ['2759', '90671','103154','2759','31555','31556','103158']\n",
    "lista2 = []\n",
    "\n",
    "for atividade in atividades:\n",
    "    response = requests.get(url = 'https://servicodados.ibge.gov.br/api/v3/agregados/8187/periodos/'+per+'/variaveis/11706?localidades=N3[all]&classificacao=11046[56733]|85['+atividade+']')\n",
    "    resultados = response.json()[0]['resultados']\n",
    "    for resultado in resultados:\n",
    "        series = resultado['series']\n",
    "        for serie in series:\n",
    "            dados = pd.DataFrame.from_dict(serie['serie'], orient='index', columns = ['PMC - Receita Nominal'])\n",
    "            dados['Nível Regional'] = serie['localidade']['nivel']['nome']\n",
    "            dados['Região'] = serie['localidade']['nome']\n",
    "            dados['Categoria'] = list(resultado['classificacoes'][0]['categoria'].values())[0]\n",
    "            dados = dados.reset_index().rename(columns = {'index': 'Período'})\n",
    "            dados['Período'] = pd.to_datetime(dados['Período'], format = '%Y%m')\n",
    "            dados['Atividade'] = list(resultado['classificacoes'][1]['categoria'].values())[0]\n",
    "\n",
    "            # Anexa o conjunto de dados do loop atual na lista\n",
    "            lista2.append(dados)\n",
    "    pmc_receita = pd.concat(lista2)"
   ]
  },
  {
   "cell_type": "code",
   "execution_count": 6,
   "metadata": {},
   "outputs": [],
   "source": [
    "#Pesquisa Mensal de Serviços - Volume de Vendas - Número-índice\n",
    "\n",
    "atividades = ['107071','106869','106870','31396','106874','31397','39321','39322','31399','31400','31421','106876','31422','31423','31424','31425','31426']\n",
    "lista2 = []\n",
    "\n",
    "for atividade in atividades:\n",
    "    response = requests.get(url = 'https://servicodados.ibge.gov.br/api/v3/agregados/8162/periodos/'+per+'/variaveis/11621?localidades=N1[all]&classificacao=11046[56726]|12355['+atividade+']')\n",
    "    resultados = response.json()[0]['resultados']\n",
    "    for resultado in resultados:\n",
    "        series = resultado['series']\n",
    "        for serie in series:\n",
    "            dados = pd.DataFrame.from_dict(serie['serie'], orient='index', columns = ['PMS - Volume de Vendas'])\n",
    "            dados['Nível Regional'] = serie['localidade']['nivel']['nome']\n",
    "            dados['Região'] = serie['localidade']['nome']\n",
    "            dados['Categoria'] = list(resultado['classificacoes'][0]['categoria'].values())[0]\n",
    "            dados = dados.reset_index().rename(columns = {'index': 'Período'})\n",
    "            dados['Período'] = pd.to_datetime(dados['Período'], format = '%Y%m')\n",
    "            dados['Atividade'] = list(resultado['classificacoes'][1]['categoria'].values())[0]\n",
    "\n",
    "            # Anexa o conjunto de dados do loop atual na lista\n",
    "            lista2.append(dados)\n",
    "    pms_volume = pd.concat(lista2)"
   ]
  },
  {
   "cell_type": "code",
   "execution_count": 7,
   "metadata": {},
   "outputs": [],
   "source": [
    "#Pesquisa Mensal de Serviços - Volume de Vendas - Número-índice\n",
    "\n",
    "atividades = ['107071','106869','106870','31396','106874','31397','39321','39322','31399','31400','31421','106876','31422','31423','31424','31425','31426']\n",
    "lista2 = []\n",
    "\n",
    "for atividade in atividades:\n",
    "    response = requests.get(url = 'https://servicodados.ibge.gov.br/api/v3/agregados/8162/periodos/'+per+'/variaveis/11621?localidades=N1[all]&classificacao=11046[56725]|12355['+atividade+']')\n",
    "    resultados = response.json()[0]['resultados']\n",
    "    for resultado in resultados:\n",
    "        series = resultado['series']\n",
    "        for serie in series:\n",
    "            dados = pd.DataFrame.from_dict(serie['serie'], orient='index', columns = ['PMS - Receita Nominal'])\n",
    "            dados['Nível Regional'] = serie['localidade']['nivel']['nome']\n",
    "            dados['Região'] = serie['localidade']['nome']\n",
    "            dados['Categoria'] = list(resultado['classificacoes'][0]['categoria'].values())[0]\n",
    "            dados = dados.reset_index().rename(columns = {'index': 'Período'})\n",
    "            dados['Período'] = pd.to_datetime(dados['Período'], format = '%Y%m')\n",
    "            dados['Atividade'] = list(resultado['classificacoes'][1]['categoria'].values())[0]\n",
    "\n",
    "            # Anexa o conjunto de dados do loop atual na lista\n",
    "            lista2.append(dados)\n",
    "    pms_receita = pd.concat(lista2)"
   ]
  },
  {
   "cell_type": "code",
   "execution_count": 8,
   "metadata": {},
   "outputs": [
    {
     "ename": "OSError",
     "evalue": "Cannot save file into a non-existent directory: 'C:\\Users\\SV - João Victor\\Sucesso em Vendas\\Gestão de Resultados - Documentos\\10- Desenvolvimento\\Dados Econômicos'",
     "output_type": "error",
     "traceback": [
      "\u001b[1;31m---------------------------------------------------------------------------\u001b[0m",
      "\u001b[1;31mOSError\u001b[0m                                   Traceback (most recent call last)",
      "\u001b[1;32mc:\\Users\\SV - João Victor\\Sucesso em Vendas\\Gestão de Resultados - Documentos\\10- Desenvolvimento\\Economia\\Extração de Dados Econômicos.ipynb Célula: 8\u001b[0m in \u001b[0;36m<cell line: 1>\u001b[1;34m()\u001b[0m\n\u001b[1;32m----> <a href='vscode-notebook-cell:/c%3A/Users/SV%20-%20Jo%C3%A3o%20Victor/Sucesso%20em%20Vendas/Gest%C3%A3o%20de%20Resultados%20-%20Documentos/10-%20Desenvolvimento/Economia/Extra%C3%A7%C3%A3o%20de%20Dados%20Econ%C3%B4micos.ipynb#X10sZmlsZQ%3D%3D?line=0'>1</a>\u001b[0m \u001b[39mwith\u001b[39;00m pd\u001b[39m.\u001b[39;49mExcelWriter(\u001b[39m\"\u001b[39;49m\u001b[39mC:\u001b[39;49m\u001b[39m\\\\\u001b[39;49;00m\u001b[39mUsers\u001b[39;49m\u001b[39m\\\\\u001b[39;49;00m\u001b[39mSV - João Victor\u001b[39;49m\u001b[39m\\\\\u001b[39;49;00m\u001b[39mSucesso em Vendas\u001b[39;49m\u001b[39m\\\\\u001b[39;49;00m\u001b[39mGestão de Resultados - Documentos\u001b[39;49m\u001b[39m\\\\\u001b[39;49;00m\u001b[39m10- Desenvolvimento\u001b[39;49m\u001b[39m\\\\\u001b[39;49;00m\u001b[39mDados Econômicos\u001b[39;49m\u001b[39m\\\\\u001b[39;49;00m\u001b[39mPMC e PMS.xlsx\u001b[39;49m\u001b[39m\"\u001b[39;49m, engine\u001b[39m=\u001b[39;49m\u001b[39m'\u001b[39;49m\u001b[39mxlsxwriter\u001b[39;49m\u001b[39m'\u001b[39;49m) \u001b[39mas\u001b[39;00m writer:\n\u001b[0;32m      <a href='vscode-notebook-cell:/c%3A/Users/SV%20-%20Jo%C3%A3o%20Victor/Sucesso%20em%20Vendas/Gest%C3%A3o%20de%20Resultados%20-%20Documentos/10-%20Desenvolvimento/Economia/Extra%C3%A7%C3%A3o%20de%20Dados%20Econ%C3%B4micos.ipynb#X10sZmlsZQ%3D%3D?line=1'>2</a>\u001b[0m     pmc_volume \u001b[39m=\u001b[39m pmc_volume\u001b[39m.\u001b[39mto_excel(writer, index \u001b[39m=\u001b[39m \u001b[39mFalse\u001b[39;00m, sheet_name \u001b[39m=\u001b[39m \u001b[39m\"\u001b[39m\u001b[39mPMC - Volume de Vendas\u001b[39m\u001b[39m\"\u001b[39m)\n\u001b[0;32m      <a href='vscode-notebook-cell:/c%3A/Users/SV%20-%20Jo%C3%A3o%20Victor/Sucesso%20em%20Vendas/Gest%C3%A3o%20de%20Resultados%20-%20Documentos/10-%20Desenvolvimento/Economia/Extra%C3%A7%C3%A3o%20de%20Dados%20Econ%C3%B4micos.ipynb#X10sZmlsZQ%3D%3D?line=2'>3</a>\u001b[0m     pmc_receita \u001b[39m=\u001b[39m pmc_receita\u001b[39m.\u001b[39mto_excel(writer, index \u001b[39m=\u001b[39m \u001b[39mFalse\u001b[39;00m, sheet_name \u001b[39m=\u001b[39m \u001b[39m'\u001b[39m\u001b[39mPMC - Receita de Vendas Nominal\u001b[39m\u001b[39m'\u001b[39m)\n",
      "File \u001b[1;32mc:\\Users\\Public\\Anaconda\\lib\\site-packages\\pandas\\io\\excel\\_xlsxwriter.py:191\u001b[0m, in \u001b[0;36mXlsxWriter.__init__\u001b[1;34m(self, path, engine, date_format, datetime_format, mode, storage_options, if_sheet_exists, engine_kwargs, **kwargs)\u001b[0m\n\u001b[0;32m    188\u001b[0m \u001b[39mif\u001b[39;00m mode \u001b[39m==\u001b[39m \u001b[39m\"\u001b[39m\u001b[39ma\u001b[39m\u001b[39m\"\u001b[39m:\n\u001b[0;32m    189\u001b[0m     \u001b[39mraise\u001b[39;00m \u001b[39mValueError\u001b[39;00m(\u001b[39m\"\u001b[39m\u001b[39mAppend mode is not supported with xlsxwriter!\u001b[39m\u001b[39m\"\u001b[39m)\n\u001b[1;32m--> 191\u001b[0m \u001b[39msuper\u001b[39;49m()\u001b[39m.\u001b[39;49m\u001b[39m__init__\u001b[39;49m(\n\u001b[0;32m    192\u001b[0m     path,\n\u001b[0;32m    193\u001b[0m     engine\u001b[39m=\u001b[39;49mengine,\n\u001b[0;32m    194\u001b[0m     date_format\u001b[39m=\u001b[39;49mdate_format,\n\u001b[0;32m    195\u001b[0m     datetime_format\u001b[39m=\u001b[39;49mdatetime_format,\n\u001b[0;32m    196\u001b[0m     mode\u001b[39m=\u001b[39;49mmode,\n\u001b[0;32m    197\u001b[0m     storage_options\u001b[39m=\u001b[39;49mstorage_options,\n\u001b[0;32m    198\u001b[0m     if_sheet_exists\u001b[39m=\u001b[39;49mif_sheet_exists,\n\u001b[0;32m    199\u001b[0m     engine_kwargs\u001b[39m=\u001b[39;49mengine_kwargs,\n\u001b[0;32m    200\u001b[0m )\n\u001b[0;32m    202\u001b[0m \u001b[39mself\u001b[39m\u001b[39m.\u001b[39mbook \u001b[39m=\u001b[39m Workbook(\u001b[39mself\u001b[39m\u001b[39m.\u001b[39mhandles\u001b[39m.\u001b[39mhandle, \u001b[39m*\u001b[39m\u001b[39m*\u001b[39mengine_kwargs)\n",
      "File \u001b[1;32mc:\\Users\\Public\\Anaconda\\lib\\site-packages\\pandas\\io\\excel\\_base.py:1106\u001b[0m, in \u001b[0;36mExcelWriter.__init__\u001b[1;34m(self, path, engine, date_format, datetime_format, mode, storage_options, if_sheet_exists, engine_kwargs, **kwargs)\u001b[0m\n\u001b[0;32m   1102\u001b[0m \u001b[39mself\u001b[39m\u001b[39m.\u001b[39mhandles \u001b[39m=\u001b[39m IOHandles(\n\u001b[0;32m   1103\u001b[0m     cast(IO[\u001b[39mbytes\u001b[39m], path), compression\u001b[39m=\u001b[39m{\u001b[39m\"\u001b[39m\u001b[39mcompression\u001b[39m\u001b[39m\"\u001b[39m: \u001b[39mNone\u001b[39;00m}\n\u001b[0;32m   1104\u001b[0m )\n\u001b[0;32m   1105\u001b[0m \u001b[39mif\u001b[39;00m \u001b[39mnot\u001b[39;00m \u001b[39misinstance\u001b[39m(path, ExcelWriter):\n\u001b[1;32m-> 1106\u001b[0m     \u001b[39mself\u001b[39m\u001b[39m.\u001b[39mhandles \u001b[39m=\u001b[39m get_handle(\n\u001b[0;32m   1107\u001b[0m         path, mode, storage_options\u001b[39m=\u001b[39;49mstorage_options, is_text\u001b[39m=\u001b[39;49m\u001b[39mFalse\u001b[39;49;00m\n\u001b[0;32m   1108\u001b[0m     )\n\u001b[0;32m   1109\u001b[0m \u001b[39mself\u001b[39m\u001b[39m.\u001b[39msheets: \u001b[39mdict\u001b[39m[\u001b[39mstr\u001b[39m, Any] \u001b[39m=\u001b[39m {}\n\u001b[0;32m   1110\u001b[0m \u001b[39mself\u001b[39m\u001b[39m.\u001b[39mcur_sheet \u001b[39m=\u001b[39m \u001b[39mNone\u001b[39;00m\n",
      "File \u001b[1;32mc:\\Users\\Public\\Anaconda\\lib\\site-packages\\pandas\\io\\common.py:697\u001b[0m, in \u001b[0;36mget_handle\u001b[1;34m(path_or_buf, mode, encoding, compression, memory_map, is_text, errors, storage_options)\u001b[0m\n\u001b[0;32m    695\u001b[0m \u001b[39m# Only for write methods\u001b[39;00m\n\u001b[0;32m    696\u001b[0m \u001b[39mif\u001b[39;00m \u001b[39m\"\u001b[39m\u001b[39mr\u001b[39m\u001b[39m\"\u001b[39m \u001b[39mnot\u001b[39;00m \u001b[39min\u001b[39;00m mode \u001b[39mand\u001b[39;00m is_path:\n\u001b[1;32m--> 697\u001b[0m     check_parent_directory(\u001b[39mstr\u001b[39;49m(handle))\n\u001b[0;32m    699\u001b[0m \u001b[39mif\u001b[39;00m compression:\n\u001b[0;32m    700\u001b[0m     \u001b[39mif\u001b[39;00m compression \u001b[39m!=\u001b[39m \u001b[39m\"\u001b[39m\u001b[39mzstd\u001b[39m\u001b[39m\"\u001b[39m:\n\u001b[0;32m    701\u001b[0m         \u001b[39m# compression libraries do not like an explicit text-mode\u001b[39;00m\n",
      "File \u001b[1;32mc:\\Users\\Public\\Anaconda\\lib\\site-packages\\pandas\\io\\common.py:571\u001b[0m, in \u001b[0;36mcheck_parent_directory\u001b[1;34m(path)\u001b[0m\n\u001b[0;32m    569\u001b[0m parent \u001b[39m=\u001b[39m Path(path)\u001b[39m.\u001b[39mparent\n\u001b[0;32m    570\u001b[0m \u001b[39mif\u001b[39;00m \u001b[39mnot\u001b[39;00m parent\u001b[39m.\u001b[39mis_dir():\n\u001b[1;32m--> 571\u001b[0m     \u001b[39mraise\u001b[39;00m \u001b[39mOSError\u001b[39;00m(\u001b[39mrf\u001b[39m\u001b[39m\"\u001b[39m\u001b[39mCannot save file into a non-existent directory: \u001b[39m\u001b[39m'\u001b[39m\u001b[39m{\u001b[39;00mparent\u001b[39m}\u001b[39;00m\u001b[39m'\u001b[39m\u001b[39m\"\u001b[39m)\n",
      "\u001b[1;31mOSError\u001b[0m: Cannot save file into a non-existent directory: 'C:\\Users\\SV - João Victor\\Sucesso em Vendas\\Gestão de Resultados - Documentos\\10- Desenvolvimento\\Dados Econômicos'"
     ]
    }
   ],
   "source": [
    "with pd.ExcelWriter(\"C:\\\\Users\\\\SV - João Victor\\\\Sucesso em Vendas\\\\Gestão de Resultados - Documentos\\\\10- Desenvolvimento\\\\Dados Econômicos\\\\PMC e PMS.xlsx\", engine='xlsxwriter') as writer:\n",
    "    pmc_volume = pmc_volume.to_excel(writer, index = False, sheet_name = \"PMC - Volume de Vendas\")\n",
    "    pmc_receita = pmc_receita.to_excel(writer, index = False, sheet_name = 'PMC - Receita de Vendas Nominal')\n",
    "    pms_receita = pms_receita.to_excel(writer, index = False, sheet_name = \"PMS - Receita de Vendas Nominal\")\n",
    "    pms_volume = pms_volume.to_excel(writer, index = False, sheet_name = \"PMS - Volume de Vendas\")\n",
    "    pibs = pibs.to_excel(writer, index = False, sheet_name = \"PIB\")\n"
   ]
  },
  {
   "cell_type": "code",
   "execution_count": null,
   "metadata": {},
   "outputs": [],
   "source": []
  }
 ],
 "metadata": {
  "kernelspec": {
   "display_name": "Python 3.9.12 ('base')",
   "language": "python",
   "name": "python3"
  },
  "language_info": {
   "codemirror_mode": {
    "name": "ipython",
    "version": 3
   },
   "file_extension": ".py",
   "mimetype": "text/x-python",
   "name": "python",
   "nbconvert_exporter": "python",
   "pygments_lexer": "ipython3",
   "version": "3.9.12"
  },
  "orig_nbformat": 4,
  "vscode": {
   "interpreter": {
    "hash": "fc6a87218d93c3eb3aa29305b960fd7fc714f48d8ac50960275ef4f8856ba0fd"
   }
  }
 },
 "nbformat": 4,
 "nbformat_minor": 2
}
