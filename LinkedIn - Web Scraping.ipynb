{
 "cells": [
  {
   "cell_type": "code",
   "execution_count": 147,
   "metadata": {},
   "outputs": [],
   "source": [
    "from apscheduler.schedulers.blocking import BlockingScheduler\n",
    "import pandas as pd\n",
    "import selenium\n",
    "from selenium import webdriver\n",
    "from selenium.webdriver.chrome.service import Service\n",
    "from selenium.webdriver.chrome.options import Options\n",
    "from webdriver_manager.chrome import ChromeDriverManager\n",
    "from selenium.webdriver.common.keys import Keys\n",
    "from selenium.webdriver.common.by import By\n",
    "from time import sleep\n",
    "import os"
   ]
  },
  {
   "cell_type": "code",
   "execution_count": 148,
   "metadata": {},
   "outputs": [],
   "source": [
    "login = \"jvadler27@gmail.com\"\n",
    "senha = \"jvasjvas\"\n",
    "console = 'setTimeout(function(){debugger;}, 5000)'\n",
    "\n",
    "chrome_options = Options()\n",
    "chrome_options.add_argument(\"--headless\")"
   ]
  },
  {
   "cell_type": "markdown",
   "metadata": {},
   "source": [
    "Login no LinkedIn"
   ]
  },
  {
   "cell_type": "code",
   "execution_count": 149,
   "metadata": {},
   "outputs": [
    {
     "name": "stdout",
     "output_type": "stream",
     "text": [
      "\n"
     ]
    }
   ],
   "source": [
    "driver = webdriver.Chrome(service = Service(ChromeDriverManager().install()))\n",
    "driver.get('https://www.linkedin.com/login/pt')\n",
    "sleep(3)\n",
    "driver.find_element(By.ID, \"username\").send_keys(login)\n",
    "sleep(3)\n",
    "driver.find_element(By.ID, \"password\").send_keys(senha, Keys.ENTER)\n",
    "sleep(6)\n",
    "driver.find_element(By.XPATH, \"/html/body/div[5]/div[3]/div/div/div[2]/div/div/div/section/footer/a\").click() #Acesso à pagina de análise \n",
    "sleep(5)"
   ]
  },
  {
   "cell_type": "markdown",
   "metadata": {},
   "source": [
    "Análise de Visitantes"
   ]
  },
  {
   "cell_type": "code",
   "execution_count": 150,
   "metadata": {},
   "outputs": [],
   "source": [
    "driver.find_element(By.XPATH, \"/html/body/div[5]/aside/div[1]/header/div[2]/button\").click() #Retirada do campo de mensagens\n",
    "sleep(2)\n",
    "driver.find_element(By.XPATH, \"/html/body/div[5]/div[3]/div/div[3]/div[2]/div[1]/div/section/div/button\").click() #Exportar\n",
    "driver.find_element(By.XPATH, \"/html/body/div[3]/div/div/div[2]/div/div/div/button\").click() #Escolha da Data\n",
    "sleep(2)\n",
    "driver.find_element(By.XPATH, \"/html/body/div[3]/div/div/div[2]/div/div/div/div/div/div/ul/li[4]/div\").click() #Escolha de 1 ano\n",
    "sleep(2)\n",
    "driver.find_element(By.XPATH, \"/html/body/div[3]/div/div/div[3]/button[2]\").click() #Download\n",
    "sleep(2)"
   ]
  },
  {
   "cell_type": "markdown",
   "metadata": {},
   "source": [
    "Análise de Atualizações"
   ]
  },
  {
   "cell_type": "code",
   "execution_count": 151,
   "metadata": {},
   "outputs": [],
   "source": [
    "driver.find_element(By.XPATH, \"/html/body/div[5]/div[3]/div/div[3]/section/div/div/div[2]/nav/ul/li[3]/div/button\").click() #Mudança de Análise\n",
    "sleep(3)\n",
    "driver.find_element(By.XPATH, \"/html/body/div[5]/div[3]/div/div[3]/section/div/div/div[2]/nav/ul/li[3]/div/div/div/ul/li[2]/div/a\").click() #Análise de Atualização\n",
    "sleep(3)\n",
    "driver.find_element(By.XPATH, \"/html/body/div[5]/div[3]/div/div[3]/div[2]/div[1]/div/section/div/button/li-icon\").click() #Exportar\n",
    "driver.find_element(By.XPATH, \"/html/body/div[3]/div/div/div[2]/div/div/div/button\").click() #Escolha da Data\n",
    "sleep(1)\n",
    "driver.find_element(By.XPATH, \"/html/body/div[3]/div/div/div[2]/div/div/div/div/div/div/ul/li[4]/div\").click() #Escolha de 1 ano\n",
    "sleep(1)\n",
    "driver.find_element(By.XPATH, \"/html/body/div[3]/div/div/div[3]/button[2]\").click() #Download\n",
    "sleep(2)"
   ]
  },
  {
   "cell_type": "markdown",
   "metadata": {},
   "source": [
    "Análise de Seguidores"
   ]
  },
  {
   "cell_type": "code",
   "execution_count": 152,
   "metadata": {},
   "outputs": [],
   "source": [
    "driver.find_element(By.XPATH, \"/html/body/div[5]/div[3]/div/div[3]/section/div/div/div[2]/nav/ul/li[3]/div/button\").click() #Mudança de Análise\n",
    "sleep(1)\n",
    "driver.find_element(By.XPATH, \"/html/body/div[5]/div[3]/div/div[3]/section/div/div/div[2]/nav/ul/li[3]/div/div/div/ul/li[3]/div\").click() #Análise de Seguidores\n",
    "sleep(1)\n",
    "driver.find_element(By.XPATH, \"/html/body/div[5]/div[3]/div/div[3]/div[2]/div[1]/div/section/div/button/li-icon\").click() #Exportar\n",
    "driver.find_element(By.XPATH, \"/html/body/div[3]/div/div/div[2]/div/div/div/button\").click() #Escolha da Data\n",
    "sleep(1)\n",
    "driver.find_element(By.XPATH, \"/html/body/div[3]/div/div/div[2]/div/div/div/div/div/div/ul/li[4]/div\").click() #Escolha de 1 ano\n",
    "sleep(1)\n",
    "driver.find_element(By.XPATH, \"/html/body/div[3]/div/div/div[3]/button[2]\").click() #Download\n",
    "sleep(3)\n"
   ]
  },
  {
   "cell_type": "code",
   "execution_count": 153,
   "metadata": {},
   "outputs": [],
   "source": [
    "#Acesso às tabelas de Concorrência\n",
    "driver.find_element(By.XPATH, \"/html/body/div[5]/div[3]/div/div[3]/section/div/div/div[2]/nav/ul/li[3]/div/button\").click() #Mudança de Análise\n",
    "sleep(1)\n",
    "driver.find_element(By.XPATH, \"/html/body/div[5]/div[3]/div/div[3]/section/div/div/div[2]/nav/ul/li[3]/div/div/div/ul/li[4]/div\").click() #Análise de Concorrência\n",
    "sleep(3)\n",
    "novos_seguidores = driver.find_element(By.XPATH, \"/html/body/div[5]/div[3]/div/div[3]/div[2]/div[5]/div/div/main/div/section[1]/div/table/tbody\") #Tabela de Novos Seguidores no último Mês\n",
    "sleep(2)\n",
    "html = driver.page_source\n",
    "df = pd.read_html(html)\n",
    "\n",
    "con_seguidores = df[0]\n",
    "con_engaja = df[1]"
   ]
  },
  {
   "cell_type": "code",
   "execution_count": 154,
   "metadata": {},
   "outputs": [],
   "source": [
    "#Diretórios.\n",
    "Downloads = 'C:\\\\Users\\\\SV - João Victor\\\\Downloads\\\\'\n",
    "Destino = \"C:\\\\Users\\\\SV - João Victor\\\\Sucesso em Vendas\\\\Gestão de Resultados - Documentos\\\\Projetos Internos\\\\Power BI - Redes Sociais\\\\Linkedin\\\\\"\n",
    "arquivos = os.listdir(Downloads)"
   ]
  },
  {
   "cell_type": "code",
   "execution_count": 156,
   "metadata": {},
   "outputs": [
    {
     "ename": "UnicodeDecodeError",
     "evalue": "'utf-16-le' codec can't decode bytes in position 504-505: unexpected end of data",
     "output_type": "error",
     "traceback": [
      "\u001b[1;31m---------------------------------------------------------------------------\u001b[0m",
      "\u001b[1;31mUnicodeDecodeError\u001b[0m                        Traceback (most recent call last)",
      "\u001b[1;32mc:\\Users\\SV - João Victor\\Sucesso em Vendas\\Gestão de Resultados - Documentos\\Projetos Internos\\Power BI - Redes Sociais\\Python\\LinkedIn - Web Scraping.ipynb Célula: 13\u001b[0m in \u001b[0;36m<cell line: 3>\u001b[1;34m()\u001b[0m\n\u001b[0;32m      <a href='vscode-notebook-cell:/c%3A/Users/SV%20-%20Jo%C3%A3o%20Victor/Sucesso%20em%20Vendas/Gest%C3%A3o%20de%20Resultados%20-%20Documentos/Projetos%20Internos/Power%20BI%20-%20Redes%20Sociais/Python/LinkedIn%20-%20Web%20Scraping.ipynb#ch0000011?line=2'>3</a>\u001b[0m \u001b[39mfor\u001b[39;00m arquivo \u001b[39min\u001b[39;00m arquivos:\n\u001b[0;32m      <a href='vscode-notebook-cell:/c%3A/Users/SV%20-%20Jo%C3%A3o%20Victor/Sucesso%20em%20Vendas/Gest%C3%A3o%20de%20Resultados%20-%20Documentos/Projetos%20Internos/Power%20BI%20-%20Redes%20Sociais/Python/LinkedIn%20-%20Web%20Scraping.ipynb#ch0000011?line=3'>4</a>\u001b[0m     \u001b[39mif\u001b[39;00m \u001b[39m\"\u001b[39m\u001b[39m_updates_\u001b[39m\u001b[39m\"\u001b[39m \u001b[39min\u001b[39;00m arquivo:\n\u001b[1;32m----> <a href='vscode-notebook-cell:/c%3A/Users/SV%20-%20Jo%C3%A3o%20Victor/Sucesso%20em%20Vendas/Gest%C3%A3o%20de%20Resultados%20-%20Documentos/Projetos%20Internos/Power%20BI%20-%20Redes%20Sociais/Python/LinkedIn%20-%20Web%20Scraping.ipynb#ch0000011?line=4'>5</a>\u001b[0m         up_metricas \u001b[39m=\u001b[39m pd\u001b[39m.\u001b[39;49mread_excel(Downloads\u001b[39m+\u001b[39;49marquivo, sheet_name \u001b[39m=\u001b[39;49m \u001b[39m\"\u001b[39;49m\u001b[39mMétricas de atualizações (agreg\u001b[39;49m\u001b[39m\"\u001b[39;49m)\n\u001b[0;32m      <a href='vscode-notebook-cell:/c%3A/Users/SV%20-%20Jo%C3%A3o%20Victor/Sucesso%20em%20Vendas/Gest%C3%A3o%20de%20Resultados%20-%20Documentos/Projetos%20Internos/Power%20BI%20-%20Redes%20Sociais/Python/LinkedIn%20-%20Web%20Scraping.ipynb#ch0000011?line=5'>6</a>\u001b[0m         up_engaja \u001b[39m=\u001b[39m pd\u001b[39m.\u001b[39mread_excel(Downloads\u001b[39m+\u001b[39marquivo, sheet_name \u001b[39m=\u001b[39m \u001b[39m\"\u001b[39m\u001b[39mEngajamento da atualização\u001b[39m\u001b[39m\"\u001b[39m)\n\u001b[0;32m      <a href='vscode-notebook-cell:/c%3A/Users/SV%20-%20Jo%C3%A3o%20Victor/Sucesso%20em%20Vendas/Gest%C3%A3o%20de%20Resultados%20-%20Documentos/Projetos%20Internos/Power%20BI%20-%20Redes%20Sociais/Python/LinkedIn%20-%20Web%20Scraping.ipynb#ch0000011?line=7'>8</a>\u001b[0m     \u001b[39mif\u001b[39;00m \u001b[39m\"\u001b[39m\u001b[39m_followers\u001b[39m\u001b[39m\"\u001b[39m \u001b[39min\u001b[39;00m arquivo:\n",
      "File \u001b[1;32mc:\\Users\\Public\\Anaconda\\lib\\site-packages\\pandas\\util\\_decorators.py:311\u001b[0m, in \u001b[0;36mdeprecate_nonkeyword_arguments.<locals>.decorate.<locals>.wrapper\u001b[1;34m(*args, **kwargs)\u001b[0m\n\u001b[0;32m    305\u001b[0m \u001b[39mif\u001b[39;00m \u001b[39mlen\u001b[39m(args) \u001b[39m>\u001b[39m num_allow_args:\n\u001b[0;32m    306\u001b[0m     warnings\u001b[39m.\u001b[39mwarn(\n\u001b[0;32m    307\u001b[0m         msg\u001b[39m.\u001b[39mformat(arguments\u001b[39m=\u001b[39marguments),\n\u001b[0;32m    308\u001b[0m         \u001b[39mFutureWarning\u001b[39;00m,\n\u001b[0;32m    309\u001b[0m         stacklevel\u001b[39m=\u001b[39mstacklevel,\n\u001b[0;32m    310\u001b[0m     )\n\u001b[1;32m--> 311\u001b[0m \u001b[39mreturn\u001b[39;00m func(\u001b[39m*\u001b[39margs, \u001b[39m*\u001b[39m\u001b[39m*\u001b[39mkwargs)\n",
      "File \u001b[1;32mc:\\Users\\Public\\Anaconda\\lib\\site-packages\\pandas\\io\\excel\\_base.py:457\u001b[0m, in \u001b[0;36mread_excel\u001b[1;34m(io, sheet_name, header, names, index_col, usecols, squeeze, dtype, engine, converters, true_values, false_values, skiprows, nrows, na_values, keep_default_na, na_filter, verbose, parse_dates, date_parser, thousands, decimal, comment, skipfooter, convert_float, mangle_dupe_cols, storage_options)\u001b[0m\n\u001b[0;32m    455\u001b[0m \u001b[39mif\u001b[39;00m \u001b[39mnot\u001b[39;00m \u001b[39misinstance\u001b[39m(io, ExcelFile):\n\u001b[0;32m    456\u001b[0m     should_close \u001b[39m=\u001b[39m \u001b[39mTrue\u001b[39;00m\n\u001b[1;32m--> 457\u001b[0m     io \u001b[39m=\u001b[39m ExcelFile(io, storage_options\u001b[39m=\u001b[39;49mstorage_options, engine\u001b[39m=\u001b[39;49mengine)\n\u001b[0;32m    458\u001b[0m \u001b[39melif\u001b[39;00m engine \u001b[39mand\u001b[39;00m engine \u001b[39m!=\u001b[39m io\u001b[39m.\u001b[39mengine:\n\u001b[0;32m    459\u001b[0m     \u001b[39mraise\u001b[39;00m \u001b[39mValueError\u001b[39;00m(\n\u001b[0;32m    460\u001b[0m         \u001b[39m\"\u001b[39m\u001b[39mEngine should not be specified when passing \u001b[39m\u001b[39m\"\u001b[39m\n\u001b[0;32m    461\u001b[0m         \u001b[39m\"\u001b[39m\u001b[39man ExcelFile - ExcelFile already has the engine set\u001b[39m\u001b[39m\"\u001b[39m\n\u001b[0;32m    462\u001b[0m     )\n",
      "File \u001b[1;32mc:\\Users\\Public\\Anaconda\\lib\\site-packages\\pandas\\io\\excel\\_base.py:1419\u001b[0m, in \u001b[0;36mExcelFile.__init__\u001b[1;34m(self, path_or_buffer, engine, storage_options)\u001b[0m\n\u001b[0;32m   1416\u001b[0m \u001b[39mself\u001b[39m\u001b[39m.\u001b[39mengine \u001b[39m=\u001b[39m engine\n\u001b[0;32m   1417\u001b[0m \u001b[39mself\u001b[39m\u001b[39m.\u001b[39mstorage_options \u001b[39m=\u001b[39m storage_options\n\u001b[1;32m-> 1419\u001b[0m \u001b[39mself\u001b[39m\u001b[39m.\u001b[39m_reader \u001b[39m=\u001b[39m \u001b[39mself\u001b[39;49m\u001b[39m.\u001b[39;49m_engines[engine](\u001b[39mself\u001b[39;49m\u001b[39m.\u001b[39;49m_io, storage_options\u001b[39m=\u001b[39;49mstorage_options)\n",
      "File \u001b[1;32mc:\\Users\\Public\\Anaconda\\lib\\site-packages\\pandas\\io\\excel\\_xlrd.py:25\u001b[0m, in \u001b[0;36mXlrdReader.__init__\u001b[1;34m(self, filepath_or_buffer, storage_options)\u001b[0m\n\u001b[0;32m     23\u001b[0m err_msg \u001b[39m=\u001b[39m \u001b[39m\"\u001b[39m\u001b[39mInstall xlrd >= 1.0.0 for Excel support\u001b[39m\u001b[39m\"\u001b[39m\n\u001b[0;32m     24\u001b[0m import_optional_dependency(\u001b[39m\"\u001b[39m\u001b[39mxlrd\u001b[39m\u001b[39m\"\u001b[39m, extra\u001b[39m=\u001b[39merr_msg)\n\u001b[1;32m---> 25\u001b[0m \u001b[39msuper\u001b[39;49m()\u001b[39m.\u001b[39;49m\u001b[39m__init__\u001b[39;49m(filepath_or_buffer, storage_options\u001b[39m=\u001b[39;49mstorage_options)\n",
      "File \u001b[1;32mc:\\Users\\Public\\Anaconda\\lib\\site-packages\\pandas\\io\\excel\\_base.py:518\u001b[0m, in \u001b[0;36mBaseExcelReader.__init__\u001b[1;34m(self, filepath_or_buffer, storage_options)\u001b[0m\n\u001b[0;32m    516\u001b[0m \u001b[39mself\u001b[39m\u001b[39m.\u001b[39mhandles\u001b[39m.\u001b[39mhandle\u001b[39m.\u001b[39mseek(\u001b[39m0\u001b[39m)\n\u001b[0;32m    517\u001b[0m \u001b[39mtry\u001b[39;00m:\n\u001b[1;32m--> 518\u001b[0m     \u001b[39mself\u001b[39m\u001b[39m.\u001b[39mbook \u001b[39m=\u001b[39m \u001b[39mself\u001b[39;49m\u001b[39m.\u001b[39;49mload_workbook(\u001b[39mself\u001b[39;49m\u001b[39m.\u001b[39;49mhandles\u001b[39m.\u001b[39;49mhandle)\n\u001b[0;32m    519\u001b[0m \u001b[39mexcept\u001b[39;00m \u001b[39mException\u001b[39;00m:\n\u001b[0;32m    520\u001b[0m     \u001b[39mself\u001b[39m\u001b[39m.\u001b[39mclose()\n",
      "File \u001b[1;32mc:\\Users\\Public\\Anaconda\\lib\\site-packages\\pandas\\io\\excel\\_xlrd.py:38\u001b[0m, in \u001b[0;36mXlrdReader.load_workbook\u001b[1;34m(self, filepath_or_buffer)\u001b[0m\n\u001b[0;32m     36\u001b[0m \u001b[39mif\u001b[39;00m \u001b[39mhasattr\u001b[39m(filepath_or_buffer, \u001b[39m\"\u001b[39m\u001b[39mread\u001b[39m\u001b[39m\"\u001b[39m):\n\u001b[0;32m     37\u001b[0m     data \u001b[39m=\u001b[39m filepath_or_buffer\u001b[39m.\u001b[39mread()\n\u001b[1;32m---> 38\u001b[0m     \u001b[39mreturn\u001b[39;00m open_workbook(file_contents\u001b[39m=\u001b[39;49mdata)\n\u001b[0;32m     39\u001b[0m \u001b[39melse\u001b[39;00m:\n\u001b[0;32m     40\u001b[0m     \u001b[39mreturn\u001b[39;00m open_workbook(filepath_or_buffer)\n",
      "File \u001b[1;32mc:\\Users\\Public\\Anaconda\\lib\\site-packages\\xlrd\\__init__.py:172\u001b[0m, in \u001b[0;36mopen_workbook\u001b[1;34m(filename, logfile, verbosity, use_mmap, file_contents, encoding_override, formatting_info, on_demand, ragged_rows, ignore_workbook_corruption)\u001b[0m\n\u001b[0;32m    169\u001b[0m \u001b[39mif\u001b[39;00m file_format \u001b[39mand\u001b[39;00m file_format \u001b[39m!=\u001b[39m \u001b[39m'\u001b[39m\u001b[39mxls\u001b[39m\u001b[39m'\u001b[39m:\n\u001b[0;32m    170\u001b[0m     \u001b[39mraise\u001b[39;00m XLRDError(FILE_FORMAT_DESCRIPTIONS[file_format]\u001b[39m+\u001b[39m\u001b[39m'\u001b[39m\u001b[39m; not supported\u001b[39m\u001b[39m'\u001b[39m)\n\u001b[1;32m--> 172\u001b[0m bk \u001b[39m=\u001b[39m open_workbook_xls(\n\u001b[0;32m    173\u001b[0m     filename\u001b[39m=\u001b[39;49mfilename,\n\u001b[0;32m    174\u001b[0m     logfile\u001b[39m=\u001b[39;49mlogfile,\n\u001b[0;32m    175\u001b[0m     verbosity\u001b[39m=\u001b[39;49mverbosity,\n\u001b[0;32m    176\u001b[0m     use_mmap\u001b[39m=\u001b[39;49muse_mmap,\n\u001b[0;32m    177\u001b[0m     file_contents\u001b[39m=\u001b[39;49mfile_contents,\n\u001b[0;32m    178\u001b[0m     encoding_override\u001b[39m=\u001b[39;49mencoding_override,\n\u001b[0;32m    179\u001b[0m     formatting_info\u001b[39m=\u001b[39;49mformatting_info,\n\u001b[0;32m    180\u001b[0m     on_demand\u001b[39m=\u001b[39;49mon_demand,\n\u001b[0;32m    181\u001b[0m     ragged_rows\u001b[39m=\u001b[39;49mragged_rows,\n\u001b[0;32m    182\u001b[0m     ignore_workbook_corruption\u001b[39m=\u001b[39;49mignore_workbook_corruption,\n\u001b[0;32m    183\u001b[0m )\n\u001b[0;32m    185\u001b[0m \u001b[39mreturn\u001b[39;00m bk\n",
      "File \u001b[1;32mc:\\Users\\Public\\Anaconda\\lib\\site-packages\\xlrd\\book.py:104\u001b[0m, in \u001b[0;36mopen_workbook_xls\u001b[1;34m(filename, logfile, verbosity, use_mmap, file_contents, encoding_override, formatting_info, on_demand, ragged_rows, ignore_workbook_corruption)\u001b[0m\n\u001b[0;32m    102\u001b[0m         bk\u001b[39m.\u001b[39mon_demand \u001b[39m=\u001b[39m on_demand \u001b[39m=\u001b[39m \u001b[39mFalse\u001b[39;00m\n\u001b[0;32m    103\u001b[0m \u001b[39melse\u001b[39;00m:\n\u001b[1;32m--> 104\u001b[0m     bk\u001b[39m.\u001b[39;49mparse_globals()\n\u001b[0;32m    105\u001b[0m     bk\u001b[39m.\u001b[39m_sheet_list \u001b[39m=\u001b[39m [\u001b[39mNone\u001b[39;00m \u001b[39mfor\u001b[39;00m sh \u001b[39min\u001b[39;00m bk\u001b[39m.\u001b[39m_sheet_names]\n\u001b[0;32m    106\u001b[0m     \u001b[39mif\u001b[39;00m \u001b[39mnot\u001b[39;00m on_demand:\n",
      "File \u001b[1;32mc:\\Users\\Public\\Anaconda\\lib\\site-packages\\xlrd\\book.py:1211\u001b[0m, in \u001b[0;36mBook.parse_globals\u001b[1;34m(self)\u001b[0m\n\u001b[0;32m   1209\u001b[0m \u001b[39mif\u001b[39;00m DEBUG: \u001b[39mprint\u001b[39m(\u001b[39m\"\u001b[39m\u001b[39mparse_globals: record code is 0x\u001b[39m\u001b[39m%04x\u001b[39;00m\u001b[39m\"\u001b[39m \u001b[39m%\u001b[39m rc, file\u001b[39m=\u001b[39m\u001b[39mself\u001b[39m\u001b[39m.\u001b[39mlogfile)\n\u001b[0;32m   1210\u001b[0m \u001b[39mif\u001b[39;00m rc \u001b[39m==\u001b[39m XL_SST:\n\u001b[1;32m-> 1211\u001b[0m     \u001b[39mself\u001b[39;49m\u001b[39m.\u001b[39;49mhandle_sst(data)\n\u001b[0;32m   1212\u001b[0m \u001b[39melif\u001b[39;00m rc \u001b[39m==\u001b[39m XL_FONT \u001b[39mor\u001b[39;00m rc \u001b[39m==\u001b[39m XL_FONT_B3B4:\n\u001b[0;32m   1213\u001b[0m     \u001b[39mself\u001b[39m\u001b[39m.\u001b[39mhandle_font(data)\n",
      "File \u001b[1;32mc:\\Users\\Public\\Anaconda\\lib\\site-packages\\xlrd\\book.py:1178\u001b[0m, in \u001b[0;36mBook.handle_sst\u001b[1;34m(self, data)\u001b[0m\n\u001b[0;32m   1176\u001b[0m         fprintf(\u001b[39mself\u001b[39m\u001b[39m.\u001b[39mlogfile, \u001b[39m\"\u001b[39m\u001b[39mCONTINUE: adding \u001b[39m\u001b[39m%d\u001b[39;00m\u001b[39m bytes to SST -> \u001b[39m\u001b[39m%d\u001b[39;00m\u001b[39m\\n\u001b[39;00m\u001b[39m\"\u001b[39m, nb, nbt)\n\u001b[0;32m   1177\u001b[0m     strlist\u001b[39m.\u001b[39mappend(data)\n\u001b[1;32m-> 1178\u001b[0m \u001b[39mself\u001b[39m\u001b[39m.\u001b[39m_sharedstrings, rt_runlist \u001b[39m=\u001b[39m unpack_SST_table(strlist, uniquestrings)\n\u001b[0;32m   1179\u001b[0m \u001b[39mif\u001b[39;00m \u001b[39mself\u001b[39m\u001b[39m.\u001b[39mformatting_info:\n\u001b[0;32m   1180\u001b[0m     \u001b[39mself\u001b[39m\u001b[39m.\u001b[39m_rich_text_runlist_map \u001b[39m=\u001b[39m rt_runlist\n",
      "File \u001b[1;32mc:\\Users\\Public\\Anaconda\\lib\\site-packages\\xlrd\\book.py:1426\u001b[0m, in \u001b[0;36munpack_SST_table\u001b[1;34m(datatab, nstrings)\u001b[0m\n\u001b[0;32m   1424\u001b[0m \u001b[39m# if DEBUG: print \"SST U16: nchars=%d pos=%d rawstrg=%r\" % (nchars, pos, rawstrg)\u001b[39;00m\n\u001b[0;32m   1425\u001b[0m \u001b[39mtry\u001b[39;00m:\n\u001b[1;32m-> 1426\u001b[0m     accstrg \u001b[39m+\u001b[39m\u001b[39m=\u001b[39m unicode(rawstrg, \u001b[39m\"\u001b[39;49m\u001b[39mutf_16_le\u001b[39;49m\u001b[39m\"\u001b[39;49m)\n\u001b[0;32m   1427\u001b[0m \u001b[39mexcept\u001b[39;00m:\n\u001b[0;32m   1428\u001b[0m     \u001b[39m# print \"SST U16: nchars=%d pos=%d rawstrg=%r\" % (nchars, pos, rawstrg)\u001b[39;00m\n\u001b[0;32m   1429\u001b[0m     \u001b[39m# Probable cause: dodgy data e.g. unfinished surrogate pair.\u001b[39;00m\n\u001b[0;32m   1430\u001b[0m     \u001b[39m# E.g. file unicode2.xls in pyExcelerator's examples has cells containing\u001b[39;00m\n\u001b[0;32m   1431\u001b[0m     \u001b[39m# unichr(i) for i in range(0x100000)\u001b[39;00m\n\u001b[0;32m   1432\u001b[0m     \u001b[39m# so this will include 0xD800 etc\u001b[39;00m\n\u001b[0;32m   1433\u001b[0m     \u001b[39mraise\u001b[39;00m\n",
      "File \u001b[1;32mc:\\Users\\Public\\Anaconda\\lib\\site-packages\\xlrd\\timemachine.py:31\u001b[0m, in \u001b[0;36m<lambda>\u001b[1;34m(b, enc)\u001b[0m\n\u001b[0;32m     29\u001b[0m REPR \u001b[39m=\u001b[39m ascii\n\u001b[0;32m     30\u001b[0m xrange \u001b[39m=\u001b[39m \u001b[39mrange\u001b[39m\n\u001b[1;32m---> 31\u001b[0m unicode \u001b[39m=\u001b[39m \u001b[39mlambda\u001b[39;00m b, enc: b\u001b[39m.\u001b[39;49mdecode(enc)\n\u001b[0;32m     32\u001b[0m ensure_unicode \u001b[39m=\u001b[39m \u001b[39mlambda\u001b[39;00m s: s\n\u001b[0;32m     33\u001b[0m unichr \u001b[39m=\u001b[39m \u001b[39mchr\u001b[39m\n",
      "File \u001b[1;32mc:\\Users\\Public\\Anaconda\\lib\\encodings\\utf_16_le.py:16\u001b[0m, in \u001b[0;36mdecode\u001b[1;34m(input, errors)\u001b[0m\n\u001b[0;32m     15\u001b[0m \u001b[39mdef\u001b[39;00m \u001b[39mdecode\u001b[39m(\u001b[39minput\u001b[39m, errors\u001b[39m=\u001b[39m\u001b[39m'\u001b[39m\u001b[39mstrict\u001b[39m\u001b[39m'\u001b[39m):\n\u001b[1;32m---> 16\u001b[0m     \u001b[39mreturn\u001b[39;00m codecs\u001b[39m.\u001b[39;49mutf_16_le_decode(\u001b[39minput\u001b[39;49m, errors, \u001b[39mTrue\u001b[39;49;00m)\n",
      "\u001b[1;31mUnicodeDecodeError\u001b[0m: 'utf-16-le' codec can't decode bytes in position 504-505: unexpected end of data"
     ]
    }
   ],
   "source": [
    "#Abrindo arquivos baixados.\n",
    "\n",
    "for arquivo in arquivos:\n",
    "    if \"_updates_\" in arquivo:\n",
    "        up_metricas = pd.read_excel(Downloads+arquivo, sheet_name = \"Métricas de atualizações (agreg\")\n",
    "        up_engaja = pd.read_excel(Downloads+arquivo, sheet_name = \"Engajamento da atualização\")\n",
    "\n",
    "    if \"_followers\" in arquivo:\n",
    "        seg_novos = pd.read_excel(Downloads+arquivo, sheet_name = \"Novos seguidores\")\n",
    "        seg_local = pd.read_excel(Downloads+arquivo, sheet_name = \"Localidade\")\n",
    "        seg_funcao = pd.read_excel(Downloads+arquivo, sheet_name = \"Função\")\n",
    "        seg_exp = pd.read_excel(Downloads+arquivo, sheet_name = \"Nível de experiência\")\n",
    "        seg_setor = pd.read_excel(Downloads+arquivo, sheet_name = \"Setor\")\n",
    "        seg_tamanho = pd.read_excel(Downloads+arquivo, sheet_name = \"Tamanho da empresa\")\n",
    "        \n",
    "    if \"_visitors_\" in arquivo:\n",
    "        vis_metricas = pd.read_excel(Downloads+arquivo, sheet_name = \"Métricas de visitantes\")\n",
    "        vis_local = pd.read_excel(Downloads+arquivo, sheet_name = \"Localidade\")\n",
    "        vis_funcao = pd.read_excel(Downloads+arquivo, sheet_name = \"Função\")\n",
    "        vis_exp = pd.read_excel(Downloads+arquivo, sheet_name = \"Nível de experiência\")\n",
    "        vis_setor = pd.read_excel(Downloads+arquivo, sheet_name = \"Setor\")\n",
    "        vis_tamanho = pd.read_excel(Downloads+arquivo, sheet_name = \"Tamanho da empresa\")"
   ]
  },
  {
   "cell_type": "code",
   "execution_count": null,
   "metadata": {},
   "outputs": [],
   "source": [
    "#Abrindo arquivos Base e atualizando.\n",
    "\n",
    "update_metricas = pd.read_excel(Destino +\"Atualizações.xlsx\", sheet_name= \"Métricas de atualizações (agreg\")\n",
    "update_engaja = pd.read_excel(Destino +\"Atualizações.xlsx\", sheet_name= \"Engajamento de atualização\")\n",
    "\n",
    "segui_novos = pd.read_excel(Destino +\"Seguidores.xlsx\", sheet_name= \"Novos seguidores\")\n",
    "segui_local = pd.read_excel(Destino +\"Seguidores.xlsx\", sheet_name= \"Localidade\")\n",
    "segui_funcao = pd.read_excel(Destino +\"Seguidores.xlsx\", sheet_name= \"Função\")\n",
    "segui_exp = pd.read_excel(Destino +\"Seguidores.xlsx\", sheet_name= \"Nível de experiência\")\n",
    "segui_setor = pd.read_excel(Destino +\"Seguidores.xlsx\", sheet_name= \"Setor\")\n",
    "segui_tamanho = pd.read_excel(Destino +\"Seguidores.xlsx\", sheet_name= \"Tamanho da empresa\")\n",
    "\n",
    "visi_metricas = pd.read_excel(Destino +\"Visitantes.xlsx\", sheet_name= \"Métricas de visitantes\")\n",
    "visi_local = pd.read_excel(Destino +\"Visitantes.xlsx\", sheet_name= \"Localidade\")\n",
    "visi_funcao = pd.read_excel(Destino +\"Visitantes.xlsx\", sheet_name= \"Função\")\n",
    "visi_exp = pd.read_excel(Destino +\"Visitantes.xlsx\", sheet_name= \"Nível de experiência\")\n",
    "visi_setor = pd.read_excel(Destino +\"Visitantes.xlsx\", sheet_name= \"Setor\") \n",
    "visi_tamanho = pd.read_excel(Destino +\"Visitantes.xlsx\", sheet_name= \"Tamanho da empresa\")\n",
    "dataframes = [update_metricas, update_engaja, segui_novos, segui_local,\n",
    "                 segui_funcao, segui_exp, segui_setor, segui_tamanho,\n",
    "                 visi_metricas, visi_local, visi_funcao, visi_exp, visi_setor,\n",
    "                 visi_tamanho]"
   ]
  },
  {
   "cell_type": "code",
   "execution_count": null,
   "metadata": {},
   "outputs": [],
   "source": [
    "#Limpando frames existentes\n",
    "for frame in dataframes:\n",
    "        frame = frame.drop(frame.index, inplace = True)"
   ]
  },
  {
   "cell_type": "code",
   "execution_count": null,
   "metadata": {},
   "outputs": [],
   "source": [
    "#Atualizando arquivos.\n",
    "visi_setor = pd.concat([visi_setor, vis_setor])\n",
    "visi_local = pd.concat([visi_local,vis_local])\n",
    "visi_funcao = pd.concat([visi_funcao, vis_funcao])\n",
    "visi_exp = pd.concat([visi_exp, vis_exp])\n",
    "visi_metricas = pd.concat([visi_metricas, vis_metricas])\n",
    "visi_tamanho = pd.concat([visi_tamanho, vis_tamanho])\n",
    "\n",
    "update_metricas = pd.concat([update_metricas, up_metricas])\n",
    "update_engaja = pd.concat([update_engaja, up_engaja])\n",
    "\n",
    "segui_novos = pd.concat([segui_novos, seg_novos])\n",
    "segui_local = pd.concat([segui_local, seg_local])\n",
    "segui_funcao = pd.concat([segui_funcao, seg_funcao])\n",
    "segui_exp = pd.concat([segui_exp, seg_exp])\n",
    "segui_setor = pd.concat([segui_setor, seg_setor])\n",
    "segui_tamanho = pd.concat([segui_tamanho, seg_tamanho])"
   ]
  },
  {
   "cell_type": "code",
   "execution_count": null,
   "metadata": {},
   "outputs": [
    {
     "ename": "NameError",
     "evalue": "name 'Destino' is not defined",
     "output_type": "error",
     "traceback": [
      "\u001b[1;31m---------------------------------------------------------------------------\u001b[0m",
      "\u001b[1;31mNameError\u001b[0m                                 Traceback (most recent call last)",
      "\u001b[1;32mc:\\Users\\SV - João Victor\\Sucesso em Vendas\\Gestão de Resultados - Documentos\\Projetos Internos\\Power BI - Redes Sociais\\Python\\LinkedIn - Web Scraping.ipynb Célula: 17\u001b[0m in \u001b[0;36m<cell line: 2>\u001b[1;34m()\u001b[0m\n\u001b[0;32m      <a href='vscode-notebook-cell:/c%3A/Users/SV%20-%20Jo%C3%A3o%20Victor/Sucesso%20em%20Vendas/Gest%C3%A3o%20de%20Resultados%20-%20Documentos/Projetos%20Internos/Power%20BI%20-%20Redes%20Sociais/Python/LinkedIn%20-%20Web%20Scraping.ipynb#ch0000015?line=0'>1</a>\u001b[0m \u001b[39m#Escrevendo arquivos Excel na pasta dos dados.\u001b[39;00m\n\u001b[1;32m----> <a href='vscode-notebook-cell:/c%3A/Users/SV%20-%20Jo%C3%A3o%20Victor/Sucesso%20em%20Vendas/Gest%C3%A3o%20de%20Resultados%20-%20Documentos/Projetos%20Internos/Power%20BI%20-%20Redes%20Sociais/Python/LinkedIn%20-%20Web%20Scraping.ipynb#ch0000015?line=1'>2</a>\u001b[0m \u001b[39mwith\u001b[39;00m pd\u001b[39m.\u001b[39mExcelWriter(path \u001b[39m=\u001b[39m Destino \u001b[39m+\u001b[39m \u001b[39m\"\u001b[39m\u001b[39mAtualizacões.xlsx\u001b[39m\u001b[39m\"\u001b[39m, engine \u001b[39m=\u001b[39m \u001b[39m'\u001b[39m\u001b[39mxlsxwriter\u001b[39m\u001b[39m'\u001b[39m, engine_kwargs \u001b[39m=\u001b[39m {\u001b[39m'\u001b[39m\u001b[39moptions\u001b[39m\u001b[39m'\u001b[39m : {\u001b[39m'\u001b[39m\u001b[39mstrings_to_formulas\u001b[39m\u001b[39m'\u001b[39m: \u001b[39mFalse\u001b[39;00m}}) \u001b[39mas\u001b[39;00m update:\n\u001b[0;32m      <a href='vscode-notebook-cell:/c%3A/Users/SV%20-%20Jo%C3%A3o%20Victor/Sucesso%20em%20Vendas/Gest%C3%A3o%20de%20Resultados%20-%20Documentos/Projetos%20Internos/Power%20BI%20-%20Redes%20Sociais/Python/LinkedIn%20-%20Web%20Scraping.ipynb#ch0000015?line=2'>3</a>\u001b[0m     update_engaja \u001b[39m=\u001b[39m update_engaja\u001b[39m.\u001b[39mto_excel(update, sheet_name \u001b[39m=\u001b[39m \u001b[39m\"\u001b[39m\u001b[39mEngajamento de atualização\u001b[39m\u001b[39m\"\u001b[39m)\n\u001b[0;32m      <a href='vscode-notebook-cell:/c%3A/Users/SV%20-%20Jo%C3%A3o%20Victor/Sucesso%20em%20Vendas/Gest%C3%A3o%20de%20Resultados%20-%20Documentos/Projetos%20Internos/Power%20BI%20-%20Redes%20Sociais/Python/LinkedIn%20-%20Web%20Scraping.ipynb#ch0000015?line=3'>4</a>\u001b[0m     update_metricas \u001b[39m=\u001b[39m update_metricas\u001b[39m.\u001b[39mto_excel(update, sheet_name\u001b[39m=\u001b[39m \u001b[39m\"\u001b[39m\u001b[39mMétricas de atualizações (agreg\u001b[39m\u001b[39m\"\u001b[39m)\n",
      "\u001b[1;31mNameError\u001b[0m: name 'Destino' is not defined"
     ]
    }
   ],
   "source": [
    "#Escrevendo arquivos Excel na pasta dos dados.\n",
    "with pd.ExcelWriter(path = Destino + \"Atualizacões.xlsx\", engine = 'xlsxwriter', engine_kwargs = {'options' : {'strings_to_formulas': False}}) as update:\n",
    "    update_engaja = update_engaja.to_excel(update, sheet_name = \"Engajamento de atualização\")\n",
    "    update_metricas = update_metricas.to_excel(update, sheet_name= \"Métricas de atualizações (agreg\")\n",
    "\n",
    "with pd.ExcelWriter(path = Destino + \"Visitantes.xlsx\", engine = 'xlsxwriter', engine_kwargs = {'options' : {'strings_to_formulas': False}}) as visit:\n",
    "    visi_metricas = visi_metricas.to_excel(visit, sheet_name = \"Métricas de visitantes\")\n",
    "    visi_local = visi_local.to_excel(visit, sheet_name = \"Localidade\")\n",
    "    visi_funcao = visi_funcao.to_excel(visit, sheet_name = \"Função\")\n",
    "    visi_exp = visi_exp.to_excel(visit, sheet_name = \"Nível de experiência\")\n",
    "    visi_setor = visi_setor.to_excel(visit, sheet_name = \"Setor\")\n",
    "    visi_tamanho = visi_tamanho.to_excel(visit, sheet_name = \"Tamanho da empresa\")\n",
    "\n",
    "with pd.ExcelWriter(path = Destino + \"Seguidores.xlsx\", engine = 'xlsxwriter', engine_kwargs = {'options' : {'strings_to_formulas': False}}) as fup:\n",
    "    segui_metricas = segui_novos.to_excel(fup, sheet_name = \"Novos seguidores\")\n",
    "    segui_local = segui_local.to_excel(fup, sheet_name = \"Localidade\")\n",
    "    segui_funcao = segui_funcao.to_excel(fup, sheet_name = \"Função\")\n",
    "    segui_exp = segui_exp.to_excel(fup, sheet_name = \"Nível de experiencia\")\n",
    "    segui_setor = segui_setor.to_excel(fup, sheet_name = \"Setor\")\n",
    "    segui_tamanho = segui_tamanho.to_excel(fup, sheet_name = \"Tamanho da empresa\")\n",
    "\n",
    "with pd.ExcelWriter(path = Destino + \"Concorrência.xlsx\", engine = 'xlsxwriter', engine_kwargs = {'options' : {'strings_to_formulas': False}}) as con:\n",
    "    con_seguidores = con_seguidores.to_excel(con, sheet_name = \"Concorrência - Seguidores\")\n",
    "    con_engaja = con_engaja.to_excel(con, sheet_name = \"Concorrência - Engajamento\")\n"
   ]
  },
  {
   "cell_type": "code",
   "execution_count": null,
   "metadata": {},
   "outputs": [],
   "source": []
  },
  {
   "cell_type": "code",
   "execution_count": null,
   "metadata": {},
   "outputs": [],
   "source": []
  }
 ],
 "metadata": {
  "kernelspec": {
   "display_name": "Python 3.9.12 ('base')",
   "language": "python",
   "name": "python3"
  },
  "language_info": {
   "codemirror_mode": {
    "name": "ipython",
    "version": 3
   },
   "file_extension": ".py",
   "mimetype": "text/x-python",
   "name": "python",
   "nbconvert_exporter": "python",
   "pygments_lexer": "ipython3",
   "version": "3.9.12"
  },
  "orig_nbformat": 4,
  "vscode": {
   "interpreter": {
    "hash": "fc6a87218d93c3eb3aa29305b960fd7fc714f48d8ac50960275ef4f8856ba0fd"
   }
  }
 },
 "nbformat": 4,
 "nbformat_minor": 2
}
