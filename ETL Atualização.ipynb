{
 "cells": [
  {
   "cell_type": "code",
   "execution_count": 14,
   "metadata": {},
   "outputs": [],
   "source": [
    "import pandas as pd\n",
    "import os \n",
    "from datetime import datetime"
   ]
  },
  {
   "cell_type": "code",
   "execution_count": 15,
   "metadata": {},
   "outputs": [],
   "source": [
    "#Acesso Diretório dos envios feitos pelo Max\n",
    "envio = 'C:\\\\Users\\\\SV - João Victor\\\\Sucesso em Vendas\\\\BI - Gestão de Resultados - Documentos\\\\EDMIL\\\\Edmil - 2022\\\\Dados\\\\'\n",
    "arquivos = os.listdir(envio)\n",
    "\n",
    "for arquivo in arquivos:\n",
    "    if \"Resultado Geral\" in arquivo:\n",
    "        envio_geral = pd.read_excel(envio + arquivo, sheet_name = 'Resultado Geral')\n",
    "        envio_regional = pd.read_excel(envio + arquivo, sheet_name = 'Resultado Regionais')\n",
    "        envio_filial = pd.read_excel(envio + arquivo, sheet_name = 'Resultado por Filial')\n",
    "        envio_div = pd.read_excel(envio + arquivo, sheet_name = 'Resultado por Filial')\n",
    "        envio_loja = pd.read_excel(envio + arquivo, sheet_name = 'Resultado por Filial')"
   ]
  },
  {
   "cell_type": "code",
   "execution_count": 16,
   "metadata": {},
   "outputs": [],
   "source": [
    "#Acesso a Base de Dados\n",
    "dir = \"C:\\\\Users\\\\SV - João Victor\\\\Sucesso em Vendas\\\\BI - Gestão de Resultados - Documentos\\\\EDMIL\\\\Edmil - 2022\\\\base.xlsx\"\n",
    "base_venda = pd.read_excel(dir, sheet_name = \" Base_Meta - Vendedor\")\n",
    "base_div = pd.read_excel(dir, sheet_name = \"Base Divisão - 2022\")\n",
    "base_div_geral = pd.read_excel(dir, sheet_name = \"Divisão por Lojas\")\n",
    "base_loja = pd.read_excel(dir, sheet_name = \"Base Geral - Total\")\n",
    "base_regional = pd.read_excel(dir, sheet_name = \"Base Regionais - 2022\")\n",
    "base_filial = pd.read_excel(dir, sheet_name = \"Base Geral - Total\")"
   ]
  },
  {
   "cell_type": "code",
   "execution_count": 17,
   "metadata": {},
   "outputs": [],
   "source": [
    "#Obtenção do mês/ano atual \n",
    "\n",
    "currentMonth = str(datetime.now().month)\n",
    "currentYear = str(datetime.now().year)\n",
    "#data = \"01\" + \"/0\" + currentMonth + \"/\" + currentYear\n",
    "data = \"01/12/2021\""
   ]
  },
  {
   "cell_type": "code",
   "execution_count": 18,
   "metadata": {},
   "outputs": [],
   "source": [
    "#ETL da Atualização Vendedores\n",
    "head = envio_filial.iloc[0]\n",
    "envio_filial = envio_filial[1:]\n",
    "envio_filial.columns = head\n",
    "envio_filial['Mês/Ano'] = data\n",
    "totais = envio_filial.index[envio_filial['Divisão'].str.contains('Total', na = False)]\n",
    "envio_filial.drop(totais, axis = 0, inplace = True)\n",
    "envio_filial.drop(columns = ['Regional', 'Divisão'], inplace = True)\n",
    "envio_filial[\"Chave\"] = envio_filial[\"Atendente\"] + \" - \" + envio_filial[\"Mês/Ano\"]\n",
    "envio_filial['Loja'] = envio_filial['Loja'].astype(str)\n",
    "#envio_filial['Chaves'] = envio_filial['Mês/Ano'] + '-' + envio_filial['Atendente'] + '-' + envio_filial['Loja']\n",
    "envio_filial = envio_filial.groupby(['Chave',\"Mês/Ano\" ,'Filial','Loja','Atendente'], as_index = False).sum()\n",
    "#envio_filial.drop(envio_filial['Filial'],axis = 1, inplace = True)\n",
    "envio_filial.rename(columns= {'Mês/Ano' : 'Data'}, inplace = True)\n"
   ]
  },
  {
   "cell_type": "code",
   "execution_count": 19,
   "metadata": {},
   "outputs": [],
   "source": [
    "#ETL da Atualização Divisão\n",
    "head = envio_geral.iloc[0]\n",
    "envio_geral = envio_geral[2:]\n",
    "envio_geral.columns = head\n",
    "envio_geral['Mês/Ano'] = data"
   ]
  },
  {
   "cell_type": "code",
   "execution_count": 20,
   "metadata": {},
   "outputs": [],
   "source": [
    "#ETL da Atualização de Divisão GERAL! \n",
    "head = envio_div.iloc[0]\n",
    "envio_div = envio_div[1:-1]\n",
    "envio_div.columns = head\n",
    "\n",
    "totais = envio_div.index[envio_div['Divisão'].str.contains('Total', na = False)]\n",
    "envio_div.drop(totais, axis = 0, inplace = True)\n",
    "envio_div[['Número','Lojas']] = envio_div['Filial'].str.split(\" - \", expand = True)\n",
    "envio_div.drop(columns = [\"Loja\",'Filial'], inplace = True)\n",
    "envio_div[\"Mês/Ano\"] = data"
   ]
  },
  {
   "cell_type": "code",
   "execution_count": 21,
   "metadata": {},
   "outputs": [],
   "source": [
    "#ETL da Atualização da envio Regionais \n",
    "head = envio_regional.iloc[0]\n",
    "envio_regional = envio_regional[1:]\n",
    "envio_regional.columns = head\n",
    "arroz = envio_regional.index[envio_regional['Divisão'].str.contains(\"Total\", na = False)]\n",
    "envio_regional.drop(arroz, axis = 0, inplace = True)\n",
    "envio_regional['Mês/Ano'] = data"
   ]
  },
  {
   "cell_type": "code",
   "execution_count": 22,
   "metadata": {},
   "outputs": [],
   "source": [
    "#ETL da Atualização do envio Loja\n",
    "head = envio_loja.iloc[0]\n",
    "envio_loja = envio_loja[1:-1]\n",
    "envio_loja.columns = head\n",
    "\n",
    "totais = envio_loja.index[envio_loja['Divisão'].str.contains('Total', na = False)]\n",
    "envio_loja.drop(totais, axis = 0, inplace = True)\n",
    "\n",
    "envio_loja[['Número','Nome']] = envio_loja['Filial'].str.split(\" - \", expand = True)\n",
    "columns_to_drop = ['Número', 'Filial','Loja', 'Regional']\n",
    "envio_loja.drop(columns_to_drop,axis = 1, inplace = True)\n",
    "envio_loja['Mês/Ano'] = data\n",
    "envio_loja.rename(columns= {\"Mês/Ano\" : \"Data\", \"Nome\" : \"Loja\"}, inplace= True)"
   ]
  },
  {
   "cell_type": "code",
   "execution_count": 23,
   "metadata": {},
   "outputs": [],
   "source": [
    "#Concatenação das Bases com os Envios\n",
    "venda = [base_venda, envio_filial]\n",
    "base_vendedor = pd.concat(venda).reset_index(drop = True)\n",
    "\n",
    "div = [base_div, envio_geral]\n",
    "base_geral = pd.concat(div).reset_index(drop = True)\n",
    "\n",
    "div_loja = [base_div_geral, envio_div]\n",
    "base_div_loja = pd.concat(div_loja).reset_index(drop = True)\n",
    "\n",
    "reg = [base_regional, envio_regional]\n",
    "base_regional = pd.concat(reg).reset_index(drop = True)\n",
    "\n",
    "loja = [base_loja, envio_loja]\n",
    "base_meta = pd.concat(loja).reset_index(drop = True)"
   ]
  },
  {
   "cell_type": "code",
   "execution_count": 24,
   "metadata": {},
   "outputs": [],
   "source": [
    "destino = 'C:\\\\Users\\\\SV - João Victor\\\\Sucesso em Vendas\\\\BI - Gestão de Resultados - Documentos\\\\EDMIL\\\\Edmil - 2022\\\\'\n",
    "with pd.ExcelWriter(path = destino + \"base.xlsx\", engine = 'xlsxwriter', engine_kwargs = {'options' : {'strings_to_formulas': False}}) as update:\n",
    "    base_regional = base_regional.to_excel(update, sheet_name = \"Base Regionais - 2022\")\n",
    "    base_filial = base_filial.to_excel(update, sheet_name = \"Base_Meta - Lojas\")\n",
    "    base_geral = base_geral.to_excel(update, sheet_name = \"Base Divisão - 2022\")\n",
    "    base_meta = base_meta.to_excel(update, sheet_name = \"Base Geral - Total\")\n",
    "    base_vendedor = base_vendedor.to_excel(update, sheet_name = \" Base_Meta - Vendedor\")\n",
    "    base_div_loja = base_div_loja.to_excel(update, sheet_name = 'Divisão por Lojas')\n"
   ]
  },
  {
   "cell_type": "code",
   "execution_count": null,
   "metadata": {},
   "outputs": [],
   "source": []
  }
 ],
 "metadata": {
  "kernelspec": {
   "display_name": "base",
   "language": "python",
   "name": "python3"
  },
  "language_info": {
   "codemirror_mode": {
    "name": "ipython",
    "version": 3
   },
   "file_extension": ".py",
   "mimetype": "text/x-python",
   "name": "python",
   "nbconvert_exporter": "python",
   "pygments_lexer": "ipython3",
   "version": "3.9.13 (main, Aug 25 2022, 23:51:50) [MSC v.1916 64 bit (AMD64)]"
  },
  "orig_nbformat": 4,
  "vscode": {
   "interpreter": {
    "hash": "ad2bdc8ecc057115af97d19610ffacc2b4e99fae6737bb82f5d7fb13d2f2c186"
   }
  }
 },
 "nbformat": 4,
 "nbformat_minor": 2
}
