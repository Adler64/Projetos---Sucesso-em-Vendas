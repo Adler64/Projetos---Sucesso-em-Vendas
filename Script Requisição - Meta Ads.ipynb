{
 "cells": [
  {
   "cell_type": "code",
   "execution_count": 1,
   "metadata": {},
   "outputs": [],
   "source": [
    "from apscheduler.schedulers.blocking import BlockingScheduler\n",
    "import pandas as pd\n",
    "import selenium\n",
    "from selenium import webdriver\n",
    "from selenium.webdriver.chrome.service import Service\n",
    "from selenium.webdriver.chrome.options import Options\n",
    "from webdriver_manager.chrome import ChromeDriverManager\n",
    "from selenium.webdriver.common.keys import Keys\n",
    "from selenium.webdriver.common.by import By\n",
    "from time import sleep\n",
    "import os"
   ]
  },
  {
   "attachments": {},
   "cell_type": "markdown",
   "metadata": {},
   "source": [
    "Troubleshooting no Script:\n",
    "\n",
    "Podem ocorrer dois erros comuns dentro do script, o primeiro deles se refere às funções Sleep, em alguns momentos o tempo de carregamento da tela é maior do que os segundos de Sleep que damos, fazendo com que o script dê erro por tentar efetuar uma operação que ainda não está preparada. Nesse caso, identifique onde isso está ocorrendo e aumento o tempo de Sleep em dois ou três segundos. \n",
    "\n",
    "A segunda questão que pode ocorrer é o Facebook requisitar alguma verificação de Login do perfil em questão, nesse caso não temos como contornar, faça essa verificação e rode o Script mais uma vez, o resultado deverá ser normal. "
   ]
  },
  {
   "cell_type": "code",
   "execution_count": 2,
   "metadata": {},
   "outputs": [],
   "source": [
    "#Importante mudarem o Login para que o acesso seja feito na conta correta\n",
    "login = \"jvadler27@gmail.com\"\n",
    "senha = \"jvasjvas64\"\n",
    "console = 'setTimeout(function(){debugger;}, 5000)'\n",
    "\n",
    "#As duas linhas abaixo fazem com que o script seja rodado de forma silenciosa, sem abrir uma tela visualmente. Caso queira/precise ver o programa rodando, desative essas opções.\n",
    "#chrome_options = Options()\n",
    "#chrome_options.add_argument(\"--headless\")"
   ]
  },
  {
   "cell_type": "code",
   "execution_count": 3,
   "metadata": {},
   "outputs": [
    {
     "name": "stdout",
     "output_type": "stream",
     "text": [
      "\n"
     ]
    }
   ],
   "source": [
    "#Acesso ao Gerenciador de Anúncios\n",
    "driver = webdriver.Chrome(service = Service(ChromeDriverManager().install()))\n",
    "driver.get('https://www.facebook.com')\n",
    "sleep(3)\n",
    "#Sleep é o tempo para o código aguardar uma ação, em segundos.\n",
    "driver.find_element(By.ID, \"email\").send_keys(login) #Coloca o E-mail no campo E-mail\n",
    "sleep(3)\n",
    "driver.find_element(By.ID, \"pass\").send_keys(senha, Keys.ENTER) #Coloca a Senha e dá Enter\n",
    "sleep(50)\n",
    "driver.get('https://business.facebook.com/adsmanager/reporting/business_view?act=515366046552804&business_id=243414177366198&event_source=AUTO_REDIRECT&selected_report_id=710016710705940&view_type=TABLE') #Uma vez logado, acessa a página de relatório.\n",
    "sleep(7)"
   ]
  },
  {
   "cell_type": "code",
   "execution_count": 4,
   "metadata": {},
   "outputs": [],
   "source": [
    "#Download do Arquivo\n",
    "driver.find_element(By.XPATH, \"/html/body/div[1]/div/div/div/div/div/div/div[1]/div[2]/div[2]/div/div/div/div[1]/div/div[2]/div/span/div/div/span/div/div[2]/div/div\").click() #Clica no botão de Download.\n",
    "sleep(10)\n",
    "driver.find_element(By.XPATH, \"/html/body/div[5]/div[1]/div[1]/div/div/div/div/div[3]/div/div[2]/div[1]/span/div/div/div\").click() #Clica no botão Exportar\n",
    "sleep(30)"
   ]
  },
  {
   "cell_type": "code",
   "execution_count": 5,
   "metadata": {},
   "outputs": [],
   "source": [
    "#Diretórios.\n",
    "Downloads = 'C:\\\\Users\\\\SV - João Victor\\\\Downloads\\\\' #Diretório de Downloads do Computador.\n",
    "Destino = \"C:\\\\Users\\\\SV - João Victor\\\\Sucesso em Vendas\\\\BI - Gestão de Resultados - Documentos\\\\BOM LANCE\\\\Dados\\\\Meta Ads\\\\\" #Pasta Destino no Sharepoint.\n",
    "arquivos = os.listdir(Downloads) #Extrai uma lista de todos os arquivos no diretório Downloads."
   ]
  },
  {
   "cell_type": "code",
   "execution_count": 9,
   "metadata": {},
   "outputs": [
    {
     "ename": "FileNotFoundError",
     "evalue": "[Errno 2] No such file or directory: 'C:\\\\Users\\\\SV - João Victor\\\\Downloads\\\\cópia-de-Relatório-BI-Dados-Brutos-Temporal (1).xlsx'",
     "output_type": "error",
     "traceback": [
      "\u001b[1;31m---------------------------------------------------------------------------\u001b[0m",
      "\u001b[1;31mFileNotFoundError\u001b[0m                         Traceback (most recent call last)",
      "\u001b[1;32mUntitled-1.ipynb Cell 7\u001b[0m in \u001b[0;36m<cell line: 7>\u001b[1;34m()\u001b[0m\n\u001b[0;32m      <a href='vscode-notebook-cell:Untitled-1.ipynb?jupyter-notebook#W6sdW50aXRsZWQ%3D?line=7'>8</a>\u001b[0m \u001b[39mfor\u001b[39;00m arquivo \u001b[39min\u001b[39;00m arquivos: \u001b[39m#1\u001b[39;00m\n\u001b[0;32m      <a href='vscode-notebook-cell:Untitled-1.ipynb?jupyter-notebook#W6sdW50aXRsZWQ%3D?line=8'>9</a>\u001b[0m     \u001b[39mif\u001b[39;00m keyword \u001b[39min\u001b[39;00m arquivo: \u001b[39m#2\u001b[39;00m\n\u001b[1;32m---> <a href='vscode-notebook-cell:Untitled-1.ipynb?jupyter-notebook#W6sdW50aXRsZWQ%3D?line=9'>10</a>\u001b[0m         dados_temporais \u001b[39m=\u001b[39m pd\u001b[39m.\u001b[39;49mread_excel(Downloads \u001b[39m+\u001b[39;49m arquivo) \u001b[39m#3\u001b[39;00m\n\u001b[0;32m     <a href='vscode-notebook-cell:Untitled-1.ipynb?jupyter-notebook#W6sdW50aXRsZWQ%3D?line=10'>11</a>\u001b[0m         dados_temporais \u001b[39m=\u001b[39m dados_temporais\u001b[39m.\u001b[39mto_excel(update, sheet_name\u001b[39m=\u001b[39m \u001b[39m\"\u001b[39m\u001b[39mDados Temporalizados\u001b[39m\u001b[39m\"\u001b[39m)\n",
      "File \u001b[1;32mc:\\Users\\Public\\Anaconda\\lib\\site-packages\\pandas\\util\\_decorators.py:311\u001b[0m, in \u001b[0;36mdeprecate_nonkeyword_arguments.<locals>.decorate.<locals>.wrapper\u001b[1;34m(*args, **kwargs)\u001b[0m\n\u001b[0;32m    305\u001b[0m \u001b[39mif\u001b[39;00m \u001b[39mlen\u001b[39m(args) \u001b[39m>\u001b[39m num_allow_args:\n\u001b[0;32m    306\u001b[0m     warnings\u001b[39m.\u001b[39mwarn(\n\u001b[0;32m    307\u001b[0m         msg\u001b[39m.\u001b[39mformat(arguments\u001b[39m=\u001b[39marguments),\n\u001b[0;32m    308\u001b[0m         \u001b[39mFutureWarning\u001b[39;00m,\n\u001b[0;32m    309\u001b[0m         stacklevel\u001b[39m=\u001b[39mstacklevel,\n\u001b[0;32m    310\u001b[0m     )\n\u001b[1;32m--> 311\u001b[0m \u001b[39mreturn\u001b[39;00m func(\u001b[39m*\u001b[39margs, \u001b[39m*\u001b[39m\u001b[39m*\u001b[39mkwargs)\n",
      "File \u001b[1;32mc:\\Users\\Public\\Anaconda\\lib\\site-packages\\pandas\\io\\excel\\_base.py:457\u001b[0m, in \u001b[0;36mread_excel\u001b[1;34m(io, sheet_name, header, names, index_col, usecols, squeeze, dtype, engine, converters, true_values, false_values, skiprows, nrows, na_values, keep_default_na, na_filter, verbose, parse_dates, date_parser, thousands, decimal, comment, skipfooter, convert_float, mangle_dupe_cols, storage_options)\u001b[0m\n\u001b[0;32m    455\u001b[0m \u001b[39mif\u001b[39;00m \u001b[39mnot\u001b[39;00m \u001b[39misinstance\u001b[39m(io, ExcelFile):\n\u001b[0;32m    456\u001b[0m     should_close \u001b[39m=\u001b[39m \u001b[39mTrue\u001b[39;00m\n\u001b[1;32m--> 457\u001b[0m     io \u001b[39m=\u001b[39m ExcelFile(io, storage_options\u001b[39m=\u001b[39;49mstorage_options, engine\u001b[39m=\u001b[39;49mengine)\n\u001b[0;32m    458\u001b[0m \u001b[39melif\u001b[39;00m engine \u001b[39mand\u001b[39;00m engine \u001b[39m!=\u001b[39m io\u001b[39m.\u001b[39mengine:\n\u001b[0;32m    459\u001b[0m     \u001b[39mraise\u001b[39;00m \u001b[39mValueError\u001b[39;00m(\n\u001b[0;32m    460\u001b[0m         \u001b[39m\"\u001b[39m\u001b[39mEngine should not be specified when passing \u001b[39m\u001b[39m\"\u001b[39m\n\u001b[0;32m    461\u001b[0m         \u001b[39m\"\u001b[39m\u001b[39man ExcelFile - ExcelFile already has the engine set\u001b[39m\u001b[39m\"\u001b[39m\n\u001b[0;32m    462\u001b[0m     )\n",
      "File \u001b[1;32mc:\\Users\\Public\\Anaconda\\lib\\site-packages\\pandas\\io\\excel\\_base.py:1376\u001b[0m, in \u001b[0;36mExcelFile.__init__\u001b[1;34m(self, path_or_buffer, engine, storage_options)\u001b[0m\n\u001b[0;32m   1374\u001b[0m     ext \u001b[39m=\u001b[39m \u001b[39m\"\u001b[39m\u001b[39mxls\u001b[39m\u001b[39m\"\u001b[39m\n\u001b[0;32m   1375\u001b[0m \u001b[39melse\u001b[39;00m:\n\u001b[1;32m-> 1376\u001b[0m     ext \u001b[39m=\u001b[39m inspect_excel_format(\n\u001b[0;32m   1377\u001b[0m         content_or_path\u001b[39m=\u001b[39;49mpath_or_buffer, storage_options\u001b[39m=\u001b[39;49mstorage_options\n\u001b[0;32m   1378\u001b[0m     )\n\u001b[0;32m   1379\u001b[0m     \u001b[39mif\u001b[39;00m ext \u001b[39mis\u001b[39;00m \u001b[39mNone\u001b[39;00m:\n\u001b[0;32m   1380\u001b[0m         \u001b[39mraise\u001b[39;00m \u001b[39mValueError\u001b[39;00m(\n\u001b[0;32m   1381\u001b[0m             \u001b[39m\"\u001b[39m\u001b[39mExcel file format cannot be determined, you must specify \u001b[39m\u001b[39m\"\u001b[39m\n\u001b[0;32m   1382\u001b[0m             \u001b[39m\"\u001b[39m\u001b[39man engine manually.\u001b[39m\u001b[39m\"\u001b[39m\n\u001b[0;32m   1383\u001b[0m         )\n",
      "File \u001b[1;32mc:\\Users\\Public\\Anaconda\\lib\\site-packages\\pandas\\io\\excel\\_base.py:1250\u001b[0m, in \u001b[0;36minspect_excel_format\u001b[1;34m(content_or_path, storage_options)\u001b[0m\n\u001b[0;32m   1247\u001b[0m \u001b[39mif\u001b[39;00m \u001b[39misinstance\u001b[39m(content_or_path, \u001b[39mbytes\u001b[39m):\n\u001b[0;32m   1248\u001b[0m     content_or_path \u001b[39m=\u001b[39m BytesIO(content_or_path)\n\u001b[1;32m-> 1250\u001b[0m \u001b[39mwith\u001b[39;00m get_handle(\n\u001b[0;32m   1251\u001b[0m     content_or_path, \u001b[39m\"\u001b[39;49m\u001b[39mrb\u001b[39;49m\u001b[39m\"\u001b[39;49m, storage_options\u001b[39m=\u001b[39;49mstorage_options, is_text\u001b[39m=\u001b[39;49m\u001b[39mFalse\u001b[39;49;00m\n\u001b[0;32m   1252\u001b[0m ) \u001b[39mas\u001b[39;00m handle:\n\u001b[0;32m   1253\u001b[0m     stream \u001b[39m=\u001b[39m handle\u001b[39m.\u001b[39mhandle\n\u001b[0;32m   1254\u001b[0m     stream\u001b[39m.\u001b[39mseek(\u001b[39m0\u001b[39m)\n",
      "File \u001b[1;32mc:\\Users\\Public\\Anaconda\\lib\\site-packages\\pandas\\io\\common.py:798\u001b[0m, in \u001b[0;36mget_handle\u001b[1;34m(path_or_buf, mode, encoding, compression, memory_map, is_text, errors, storage_options)\u001b[0m\n\u001b[0;32m    789\u001b[0m         handle \u001b[39m=\u001b[39m \u001b[39mopen\u001b[39m(\n\u001b[0;32m    790\u001b[0m             handle,\n\u001b[0;32m    791\u001b[0m             ioargs\u001b[39m.\u001b[39mmode,\n\u001b[1;32m   (...)\u001b[0m\n\u001b[0;32m    794\u001b[0m             newline\u001b[39m=\u001b[39m\u001b[39m\"\u001b[39m\u001b[39m\"\u001b[39m,\n\u001b[0;32m    795\u001b[0m         )\n\u001b[0;32m    796\u001b[0m     \u001b[39melse\u001b[39;00m:\n\u001b[0;32m    797\u001b[0m         \u001b[39m# Binary mode\u001b[39;00m\n\u001b[1;32m--> 798\u001b[0m         handle \u001b[39m=\u001b[39m \u001b[39mopen\u001b[39;49m(handle, ioargs\u001b[39m.\u001b[39;49mmode)\n\u001b[0;32m    799\u001b[0m     handles\u001b[39m.\u001b[39mappend(handle)\n\u001b[0;32m    801\u001b[0m \u001b[39m# Convert BytesIO or file objects passed with an encoding\u001b[39;00m\n",
      "\u001b[1;31mFileNotFoundError\u001b[0m: [Errno 2] No such file or directory: 'C:\\\\Users\\\\SV - João Victor\\\\Downloads\\\\cópia-de-Relatório-BI-Dados-Brutos-Temporal (1).xlsx'"
     ]
    }
   ],
   "source": [
    "#Passando os Dados da Pasta Downloads para a Pasta o Destino.\n",
    "\n",
    "keyword = \"Dados-Brutos\" #Texte que usamos para filtrar o arquivo que queremos acessar.\n",
    "\n",
    "#A função abaixo procura dentro da lista arquivos (1) o file que queremos de acordo com a keyword (2). Uma vez achado, abrimos ele (3) e reescrevemos o diretório para a pasta destino (4) de acordo com os dados do ExcelWriter. \n",
    "\n",
    "with pd.ExcelWriter(path = Destino + \"Dados Temporais.xlsx\", engine = 'xlsxwriter', engine_kwargs = {'options' : {'strings_to_formulas': False}}) as update:\n",
    "    for arquivo in arquivos: #1\n",
    "        if keyword in arquivo: #2\n",
    "            dados_temporais = pd.read_excel(Downloads + arquivo) #3\n",
    "            dados_temporais = dados_temporais.to_excel(update, sheet_name= \"Dados Temporalizados\") #4\n",
    "\n"
   ]
  },
  {
   "cell_type": "code",
   "execution_count": null,
   "metadata": {},
   "outputs": [],
   "source": []
  }
 ],
 "metadata": {
  "kernelspec": {
   "display_name": "Python 3.9.12 ('base')",
   "language": "python",
   "name": "python3"
  },
  "language_info": {
   "codemirror_mode": {
    "name": "ipython",
    "version": 3
   },
   "file_extension": ".py",
   "mimetype": "text/x-python",
   "name": "python",
   "nbconvert_exporter": "python",
   "pygments_lexer": "ipython3",
   "version": "3.9.12"
  },
  "orig_nbformat": 4,
  "vscode": {
   "interpreter": {
    "hash": "fc6a87218d93c3eb3aa29305b960fd7fc714f48d8ac50960275ef4f8856ba0fd"
   }
  }
 },
 "nbformat": 4,
 "nbformat_minor": 2
}
